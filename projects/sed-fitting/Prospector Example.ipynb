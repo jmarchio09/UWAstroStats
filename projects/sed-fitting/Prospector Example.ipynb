{
 "cells": [
  {
   "cell_type": "markdown",
   "id": "d671b906-4f01-4ac5-a0e9-74be42f2febd",
   "metadata": {},
   "source": [
    "# Single galaxy Prospector run\n",
    "\n",
    "Try to run Prospector on a galaxy from Chang's catalog and compare to known stellar mass / redshift values.\n",
    "\n",
    "First, load in the imports:"
   ]
  },
  {
   "cell_type": "code",
   "execution_count": 7,
   "id": "d40067ac-5020-49f3-a012-ac0d85ef6e70",
   "metadata": {},
   "outputs": [],
   "source": [
    "import sedpy \n",
    "import prospect\n",
    "import numpy as np\n",
    "import pandas as pd\n",
    "from astropy.io import fits\n",
    "from astropy.table import Table\n",
    "import matplotlib.pyplot as plt\n",
    "\n",
    "import prospect.io.read_results as reader\n",
    "from prospect.models import SpecModel, SedModel, priors\n",
    "from prospect.sources import CSPSpecBasis\n",
    "from prospect.fitting import lnprobfn, fit_model\n",
    "from prospect.models.templates import TemplateLibrary\n",
    "import matplotlib as mpl"
   ]
  },
  {
   "cell_type": "markdown",
   "id": "494d6eaf-1353-4bdd-bc21-f7c5408a098b",
   "metadata": {},
   "source": [
    "Some styling choices to make our plots look nicer, not really important (but you can read about Matplotlib's RC parameters [here](https://matplotlib.org/stable/users/explain/customizing.html))"
   ]
  },
  {
   "cell_type": "code",
   "execution_count": 8,
   "id": "dbf91f5f",
   "metadata": {},
   "outputs": [],
   "source": [
    "styling = {\n",
    "        'lines.linewidth' : 2,\n",
    "        'font.family' : 'sans-serif',\n",
    "        'axes.labelsize' : 15,\n",
    "        'legend.fontsize' : 15,\n",
    "        'font.size' : 15,\n",
    "        \"xtick.labelsize\": 15,\n",
    "        \"ytick.labelsize\": 15,\n",
    "        'ytick.major.size' : 8,\n",
    "        'ytick.minor.size' : 4,\n",
    "        'xtick.major.size' : 10,\n",
    "        'xtick.minor.size' : 6,\n",
    "        'xtick.direction' : 'inout',\n",
    "        'ytick.direction' : 'inout',  \n",
    "}\n",
    "\n",
    "mpl.rcParams.update(styling)"
   ]
  },
  {
   "cell_type": "markdown",
   "id": "aa36b043-1a54-4b17-af65-c37cfe06c96f",
   "metadata": {},
   "source": [
    "Test all the code on one example galaxy:"
   ]
  },
  {
   "cell_type": "code",
   "execution_count": 9,
   "id": "02ca9b54-8d60-4274-832c-ce6181e381c1",
   "metadata": {},
   "outputs": [],
   "source": [
    "gal_id = 33"
   ]
  },
  {
   "cell_type": "markdown",
   "id": "3501168a-c605-4e3c-b994-bc16977382eb",
   "metadata": {},
   "source": [
    "## Load the data\n",
    "\n",
    "Load the data and look at a single galaxy. We use AstroPy's [fits](https://docs.astropy.org/en/stable/io/fits/) module to read in the FITS file, load the AstroPy [table](https://docs.astropy.org/en/stable/table/) from the FITS file, and then convert the table to a [pandas DataFrame](https://pandas.pydata.org/) because they are less annoying to deal with."
   ]
  },
  {
   "cell_type": "code",
   "execution_count": 10,
   "id": "cdd2b54c-1841-45bd-ade7-49ce0fbd0e1a",
   "metadata": {},
   "outputs": [],
   "source": [
    "with fits.open('data/sw_input.fits') as f:\n",
    "    df = Table(f[1].data).to_pandas()\n",
    "    f.close()"
   ]
  },
  {
   "cell_type": "markdown",
   "id": "f9458f3a-e8bf-428d-af1b-0471877b1c62",
   "metadata": {},
   "source": [
    "### Build an observation\n",
    "\n",
    "As suggested by [Prospector docs](https://prospect.readthedocs.io/en/latest/dataformat.html), it's good to wrap all the functions needed to load in & organize the data before Prospector run in a single function. Here we take a row from the dataframe for a given object, convert all the fluxes to maggies, and build the dictionary taken as a prospector input. The dictionary keys we need to populate are:\n",
    "\n",
    "* `filters` : a list of `N` `sedpy` response filters for each object\n",
    "* `redshift`: (optional) known redshift \n",
    "* `maggies` : `Nx1` array of flux densities for the object. $1\\:\\textrm{maggie} = 10^{-0.4 m_{AB}} = f_{Jy} /3631$\n",
    "* `maggies_unc`: `Nx1` array with associated uncertainties in the same units\n",
    "\n",
    "Optional keys:\n",
    "* `phot_mask` : `Nx1` array corresponding to each magnitude; `True` **if the value should be used** and `False` **if it should be masked**.\n",
    "\n",
    "Some things to note:\n",
    "\n",
    "* Everything in the Chang catalog is in Janskys, so we can convert to Janskys\n",
    "* We use `flux_x` instead of `flux0_x` values b/c they are corrected for galactic extinction"
   ]
  },
  {
   "cell_type": "code",
   "execution_count": 11,
   "id": "fc0147cf-20a9-41ed-817b-3b259aa72571",
   "metadata": {},
   "outputs": [],
   "source": [
    "def build_obs(gal_id):\n",
    "    \"\"\"Given an object, load in fluxes, convert them to nanomaggies, and create a dict used in Prospector.\"\"\"\n",
    "\n",
    "    inp = {}\n",
    "    \n",
    "    # Get dataframe row for the object\n",
    "    row = df.iloc[gal_id]\n",
    "    inp['redshift'] = row.redshift\n",
    "\n",
    "    # Load the filter response curves from sedpy\n",
    "    bands = [f'sdss_{filt}0' for filt in 'ugriz'] + [f'wise_w{n}' for n in range(1,5)]\n",
    "    filters = sedpy.observate.load_filters(bands)\n",
    "    inp['filters'] = filters\n",
    "    \n",
    "    # Fluxes and uncertainties - already in units of maggies\n",
    "    cols = [f'flux_{filt}' for filt in 'ugriz'] + [f'flux_w{n}' for n in range(1,5)]\n",
    "    fluxes = row[cols].values.astype(float) / 3631\n",
    "\n",
    "    # Errors\n",
    "    cols_err = [f'{col}_e' for col in cols]\n",
    "    errs = row[cols_err].values.astype(float) / 3631\n",
    "\n",
    "    # Anything with a value of 9.999 is null, so may need to mask those fluxes by editing phot_mask\n",
    "    inp['maggies'] = fluxes\n",
    "    inp['maggies_unc'] = errs\n",
    "    inp['phot_mask'] = [True for val in fluxes] # Nothing masked here right now\n",
    "\n",
    "    # This is an array of effective wavelengths for each of the filters.  \n",
    "    # It is not necessary, but it can be useful for plotting so we store it here as a convenience\n",
    "    inp[\"phot_wave\"] = np.array([f.wave_effective for f in inp[\"filters\"]])\n",
    "    inp[\"wavelength\"] = None\n",
    "    \n",
    "    # Populate other fields with default\n",
    "    inp = prospect.utils.obsutils.fix_obs(inp)\n",
    "    return inp"
   ]
  },
  {
   "cell_type": "markdown",
   "id": "064fd96e-6f8b-47e8-8ab5-416f48ab412d",
   "metadata": {},
   "source": [
    "Run on the example galaxy:"
   ]
  },
  {
   "cell_type": "code",
   "execution_count": 12,
   "id": "57d15a61-5d93-43fc-858f-964f8a637bb9",
   "metadata": {},
   "outputs": [],
   "source": [
    "obs = build_obs(gal_id)"
   ]
  },
  {
   "cell_type": "markdown",
   "id": "3b92a56e-30d5-4c13-b9fb-cfac14df55f0",
   "metadata": {},
   "source": [
    "Plot the observational data and the bandpass curves:"
   ]
  },
  {
   "cell_type": "code",
   "execution_count": null,
   "id": "25f8f89f-7df2-4312-8b3d-7814633deda4",
   "metadata": {},
   "outputs": [],
   "source": [
    "\n",
    "# Look at the contents of the obs dictionary\n",
    "print(\"Obs Dictionary Keys:\\n\\n{}\\n\".format(obs.keys()))\n",
    "print(\"--------\\nFilter objects:\\n\")\n",
    "print(obs[\"filters\"])\n",
    "\n",
    "# --- Plot the Data ----\n",
    "# This is why we stored these...\n",
    "wphot = obs[\"phot_wave\"]\n",
    "\n",
    "# establish bounds\n",
    "xmin, xmax = np.min(wphot)*0.8, np.max(wphot)/0.8\n",
    "ymin, ymax = obs[\"maggies\"].min()*0.8, obs[\"maggies\"].max()/0.4\n",
    "plt.figure(figsize=(16,8))\n",
    "\n",
    "# plot all the data\n",
    "plt.plot(wphot, obs['maggies'],\n",
    "     label='All observed photometry',\n",
    "     marker='o', markersize=12, alpha=0.8, ls='', lw=3,\n",
    "     color='slateblue')\n",
    "\n",
    "# overplot only the data we intend to fit\n",
    "mask = obs[\"phot_mask\"]\n",
    "plt.errorbar(wphot[mask], obs['maggies'][mask], \n",
    "         yerr=obs['maggies_unc'][mask], \n",
    "         label='Photometry to fit',\n",
    "         marker='o', markersize=8, alpha=0.8, ls='', lw=3,\n",
    "         ecolor='tomato', markerfacecolor='none', markeredgecolor='tomato', \n",
    "         markeredgewidth=3)\n",
    "\n",
    "# plot Filters\n",
    "for f in obs['filters']:\n",
    "    w, t = f.wavelength.copy(), f.transmission.copy()\n",
    "    t = t / t.max()\n",
    "    t = 10**(0.2*(np.log10(ymax/ymin)))*t * ymin\n",
    "    plt.loglog(w, t, lw=3, color='gray', alpha=0.7)\n",
    "\n",
    "# prettify\n",
    "plt.xlabel('Wavelength [A]')\n",
    "plt.ylabel('Flux Density [maggies]')\n",
    "plt.xlim([xmin, xmax])\n",
    "plt.ylim([ymin, ymax])\n",
    "plt.xscale(\"log\")\n",
    "plt.yscale(\"log\")\n",
    "plt.legend(loc='best', fontsize=20)\n",
    "plt.tight_layout()"
   ]
  },
  {
   "cell_type": "markdown",
   "id": "8968a361-1dfa-4f20-872d-454f2dfecbdd",
   "metadata": {},
   "source": [
    "## Build model\n",
    "\n",
    "Next, we have to build a model to fit the SED with. Decision in this step can significantly affect the resulting SED, and there are many things that we could change! The [tutorial](https://prospect.readthedocs.io/en/latest/tutorial.html) has a large section on selecting the model, and the [Models](https://prospect.readthedocs.io/en/latest/models.html) section of the docs has more information.\n",
    "\n",
    "For the project, we fit a simple model. All different models live in the `TemplateLibrary` directory, and can be viewed with `TemplateLibrary.show_contents()`.\n",
    "\n",
    "Here we pick a simple parametric SFH model `parametric_sfh`  for a delay-tau SFH. We can add more complicated free parameters, e.g. nebular emission lines, with \n",
    "\n",
    "    model_params = TemplateLibrary[\"parametric_sfh\"]\n",
    "    nebular_params = TemplateLibrary[\"nebular\"]\n",
    "    model_params.update(nebular_params)\n",
    "\n",
    "This will replace any keys in the parametric model with the new keys from the nebular model, and add any missing keys as well. Similarly, we can add things like AGN (`agn`), IGM (`igm`), or choose different SFH assumptions.\n",
    "\n",
    "The model will have many parameters, where some are fixed and some are free to vary (`free: False` or `free: True`). Free parameters need to have an associated [prior](https://prospect.readthedocs.io/en/latest/api/models_api.html#module-prospect.models.priors).\n",
    "\n",
    "For a simple test, try the **default parameters**\n",
    "\n",
    "* Parametric SFH (`parametric_sfh`), where $\\textrm{SFR} \\sim t_{age} e^{-t_{age} / \\tau}$\n",
    "* No nebular, dust, or AGN emission\n",
    "* Fixed redshift, IMF type, dust type, FSPS SFH model (default values)\n",
    "    * Redshift `zred`: will given by the spectroscopic redshift\n",
    "    * SFH model  `sfh`: delayed-tau model from [SFPS](https://github.com/cconroy20/fsps/blob/master/doc/MANUAL.pdf)\n",
    "    * Dust model `dust_type`: uniform screen dust model from FSPS with a Calzetti dust attenuation\n",
    "    * IMF model `imf_type`: **can't find any info on this in the docs**\n",
    "* Varying parameters: mass, metallicity, dust, $t_{age}$, $\\tau$\n",
    "    * Mass prior: log-normal between $8 < \\log M < 12$, initial guess $\\log M_0 = 10$\n",
    "    * Metallicity prior: tophat between $-2 < \\log Z/Z_\\odot < 0.19$, initial guess $\\log Z_0/Z_\\odot = -0.5$\n",
    "    * Dust optical depth prior: tophat between $0 < \\kappa < 2$, initial guess $\\kappa_0 = 0.6$\n",
    "    * SFR decay timescale: $0.1 < \\tau < 30$ Gyr$^{-1}$, initial guess $\\tau_0 = 1$ Gyr$^{-1}$\n",
    "    * SFR time: $0.001 < t_{age} < 13.8$, initial guess $t_{age, 0} = 1$ Gyr\n",
    " \n",
    "\n",
    "\n",
    "### SED vs Spec Model\n",
    "\n",
    "With these parameters, we have two choices: we can either fit an SED-only model, or a spectroscopic model. Depending on your use case, you should use `SedModel` or `SpecModel` respectively. The spectroscopic model is needed if you are trying to fit nebular emission or dust emission/absorption lines. For this example, since we are fitting a very simple model, we use `SedModel`.\n"
   ]
  },
  {
   "cell_type": "code",
   "execution_count": null,
   "id": "41b27030-ea8a-425a-a36c-8eea834e9072",
   "metadata": {},
   "outputs": [],
   "source": [
    "model_params = TemplateLibrary[\"parametric_sfh\"]\n",
    "\n",
    "# Set the redshift to known spec-z\n",
    "model_params[\"zred\"][\"init\"] = obs[\"redshift\"]\n",
    "\n",
    "# Alternatively: we can let redshift vary if it's not known\n",
    "# model_params[\"zred\"][\"isfree\"] = True\n",
    "# model_params['zred']['init'] = 0.1\n",
    "# model_params['zred']['prior'] = priors.TopHat(mini=0,maxi=1)\n",
    "\n",
    "# Build the model\n",
    "model = SedModel(model_params)"
   ]
  },
  {
   "cell_type": "code",
   "execution_count": null,
   "id": "2ad20ab5-8001-43b0-8ac6-ae7ac5d521e3",
   "metadata": {},
   "outputs": [],
   "source": [
    "print(TemplateLibrary.show_contents())"
   ]
  },
  {
   "cell_type": "markdown",
   "id": "87b96bdd-b7fc-4b4b-a7eb-21bbaa098bfb",
   "metadata": {},
   "source": [
    "## Build SPS \n",
    "\n",
    "Here we define the stellar population synthesis object. From the [docs](https://prospect.readthedocs.io/en/latest/tutorial.html#):\n",
    "\n",
    "> For nonparameteric fits one would use the sources.FastStepBasis object. These objects hold all the spectral libraries and produce an SED given a set of parameters.\n",
    "\n",
    "    :param zcontinuous: \n",
    "        A vlue of 1 insures that we use interpolation between SSPs to \n",
    "        have a continuous metallicity parameter (`logzsol`)\n",
    "        See python-FSPS documentation for details\n",
    "        \n",
    "At this stage, we could also define some more complicated noise models for our spectroscopic and photometric measurements - but for now we skip this step, assuming all uncertainties are independent and Gaussian."
   ]
  },
  {
   "cell_type": "code",
   "execution_count": null,
   "id": "03f1e061-f7fd-4f59-8640-999aa582e1e9",
   "metadata": {},
   "outputs": [],
   "source": [
    "sps = CSPSpecBasis(zcontinuous=1)"
   ]
  },
  {
   "cell_type": "markdown",
   "id": "65c1ce80-b01e-4dd8-8a73-4d9e1fa7e480",
   "metadata": {},
   "source": [
    "### Plot the initial fit \n",
    "\n",
    "(It will be bad as it's not optimized)"
   ]
  },
  {
   "cell_type": "code",
   "execution_count": null,
   "id": "c0694f44-63c1-40c8-b9b2-841430917699",
   "metadata": {},
   "outputs": [],
   "source": [
    "# Generate the model SED at the initial value of theta\n",
    "theta = model.theta.copy()\n",
    "initial_spec, initial_phot, initial_mfrac = model.sed(theta, obs=obs, sps=sps)\n",
    "title_text = ','.join([\"{}={}\".format(p, model.params[p][0]) \n",
    "                       for p in model.free_params])\n",
    "\n",
    "a = 1.0 + model.params.get('zred', 0.0) # cosmological redshifting\n",
    "# photometric effective wavelengths\n",
    "wphot = obs[\"phot_wave\"]\n",
    "# spectroscopic wavelengths\n",
    "# *restframe* spectral wavelengths, since obs[\"wavelength\"] is None\n",
    "wspec = sps.wavelengths\n",
    "wspec *= a #redshift them\n",
    "\n",
    "\n",
    "# establish bounds\n",
    "xmin, xmax = np.min(wphot)*0.8, np.max(wphot)/0.8\n",
    "temp = np.interp(np.linspace(xmin,xmax,10000), wspec, initial_spec)\n",
    "ymin, ymax = temp.min()*0.8, temp.max()/0.4\n",
    "plt.figure(figsize=(16,8))\n",
    "\n",
    "# plot model + data\n",
    "plt.loglog(wspec, initial_spec, label='Model spectrum', \n",
    "       lw=0.7, color='navy', alpha=0.7)\n",
    "plt.errorbar(wphot, initial_phot, label='Model photometry', \n",
    "         marker='s',markersize=10, alpha=0.8, ls='', lw=3,\n",
    "         markerfacecolor='none', markeredgecolor='blue', \n",
    "         markeredgewidth=3)\n",
    "plt.errorbar(wphot, obs['maggies'], yerr=obs['maggies_unc'], \n",
    "         label='Observed photometry',\n",
    "         marker='o', markersize=10, alpha=0.8, ls='', lw=3,\n",
    "         ecolor='red', markerfacecolor='none', markeredgecolor='red', \n",
    "         markeredgewidth=3)\n",
    "plt.title(title_text)\n",
    "\n",
    "# plot Filters\n",
    "for f in obs['filters']:\n",
    "    w, t = f.wavelength.copy(), f.transmission.copy()\n",
    "    t = t / t.max()\n",
    "    t = 10**(0.2*(np.log10(ymax/ymin)))*t * ymin\n",
    "    plt.loglog(w, t, lw=3, color='gray', alpha=0.7)\n",
    "\n",
    "# prettify\n",
    "plt.xlabel('Wavelength [A]')\n",
    "plt.ylabel('Flux Density [maggies]')\n",
    "plt.xlim([xmin, xmax])\n",
    "plt.ylim([ymin/10, ymax])\n",
    "plt.legend(loc='best', fontsize=20)\n",
    "plt.tight_layout()"
   ]
  },
  {
   "cell_type": "markdown",
   "id": "e19225f8-d3fc-4d95-9ff1-23d9decc9e0c",
   "metadata": {},
   "source": [
    "## Running a fit\n",
    "\n",
    "There are various MCMC samplers available by Prospector and we can input our custom samplers. The two common ones are `emcee` (ensemble sampling) and `dynesty` (dynamic nested sampling). The fitting is done using the `fit_model` function, with parameters\n",
    "\n",
    "* `obs` : the observation dict made with `build_obs`\n",
    "* `model`: the model we built\n",
    "* `sps`: sps defined above\n",
    "* `noise` : noise model for (specdata, photdata) - by default (None, None) uses independent Gaussian noise\n",
    "* `lnprobfn`: posterior probability function, can use the default for now\n",
    "* `run_params`: any additional keyword arguments we want to pass to the sample\n",
    "\n",
    "### Run parameters\n",
    "Here we can decide on the parameters used by the samplers. The parameters differ, depending on if you are choosing emcee or dynasty.\n",
    "\n",
    "* `emcee`: if True, use the emcee sampler (controlled by fitting kwargs)\n",
    "* `dynesty`: if True, use the dynesty sampler (controlled by fitting kwargs)\n",
    "\n",
    "### Emcee parameters\n",
    "* `nwalkers` : the number of MCMC chains that start simultaneously\n",
    "* `niter` : number of tierations of the MCMC sampling\n",
    "* `optimize`:  if True, run a round of optimization before sampling, the optimization params can be controlled by keyword args.\n",
    "* `nburn` : number of iterations in each round of burn-in. After each round, the walkers are reinitialized based on the locations of the highest probability half of the walkers.\n"
   ]
  },
  {
   "cell_type": "code",
   "execution_count": null,
   "id": "83d51901",
   "metadata": {},
   "outputs": [],
   "source": [
    "run_params = {}\n",
    "run_params[\"optimize\"] = True\n",
    "run_params[\"emcee\"] = True\n",
    "run_params[\"dynesty\"] = False\n",
    "run_params[\"nwalkers\"] = 128\n",
    "run_params[\"niter\"] = 512\n",
    "run_params[\"nburn\"] = [16, 32, 64]"
   ]
  },
  {
   "cell_type": "markdown",
   "id": "e1b0afd5-f017-4a90-af44-13429ac1d74c",
   "metadata": {},
   "source": [
    "Finally, run the fit. <font color=#c00>**This will take some time!**</font>"
   ]
  },
  {
   "cell_type": "code",
   "execution_count": null,
   "id": "da3df0ed",
   "metadata": {
    "jupyter": {
     "source_hidden": true
    }
   },
   "outputs": [],
   "source": [
    "output = fit_model(obs, model, sps, lnprobfn=lnprobfn, **run_params)\n",
    "print('done emcee in {0}s'.format(output[\"sampling\"][1]))"
   ]
  },
  {
   "cell_type": "markdown",
   "id": "78120a6f-e807-4f52-9358-08232e3d2d6d",
   "metadata": {},
   "source": [
    "### Save the fit to a file\n",
    "Be careful: if a file with the name `hfile` already exists, Prospector will save the new output to a new location with a datetime stamp. So simply reading the results in using `reader.results_from...` in the following block may not work. In general, be aware of the filenames your code outputs!\n",
    "\n",
    "The output is in the HDF5 format which is generally useful if you have large datasets. HSF5 files use binary encoding to compress data, and follow a root structure similar to your computer within the file. One cool thing about them is that opening an HDF5 file *does not read all of it into memory* but allows you to perform operations on subsections of the file. For example, if you have a 10GB simulation volume spanning 100 Mpc but you only want to read in the data around your galaxy, you can index the necessary region of the array and Python will only actually *load* that region. You can read more about the Python implementation of HDF5 - the [h5py package](https://www.h5py.org/)."
   ]
  },
  {
   "cell_type": "code",
   "execution_count": null,
   "id": "2db6cada-c1b0-4113-b014-441b87373ea8",
   "metadata": {
    "jupyter": {
     "source_hidden": true
    }
   },
   "outputs": [],
   "source": [
    "result, duration = output[\"sampling\"]\n",
    "from prospect.io import write_results as writer\n",
    "\n",
    "# Name of the output file\n",
    "results_type = \"dynesty\" #\"emcee\" # | \"dynesty\"\n",
    "hfile = f\"output/gal{gal_id}_{results_type}.h5\"\n",
    "\n",
    "writer.write_hdf5(hfile, run_params, model, obs,\n",
    "                 output[\"sampling\"][0], output[\"optimization\"][0],\n",
    "                 sps=sps,\n",
    "                 tsample=output[\"sampling\"][1],\n",
    "                 toptimize=output[\"optimization\"][1])\n"
   ]
  },
  {
   "cell_type": "markdown",
   "id": "8fe87f3f-fc65-4b15-8b20-5ac3eb8b3315",
   "metadata": {},
   "source": [
    "### Read in the file & plot diagnostic plots\n",
    "\n",
    "Here we read in our HDF5 output file (again, be careful of file names). "
   ]
  },
  {
   "cell_type": "code",
   "execution_count": null,
   "id": "87610c77",
   "metadata": {},
   "outputs": [],
   "source": [
    "import prospect.io.read_results as reader\n",
    "\n",
    "results_type = \"emcee\" # | \"dynesty\"\n",
    "hfile = 'output/gal33_emcee (ssp).h5' # The filename should be changed\n",
    "\n",
    "# Grab results (dictionary), the obs dictionary, and our corresponding models\n",
    "# When using parameter files set `dangerous=True`\n",
    "#result, obs, model = reader.results_from(hfile)\n",
    "result, obs, ___ = reader.results_from(hfile)\n",
    "\n",
    "# The following commented lines reconstruct the model and sps object, \n",
    "# if a parameter file continaing the `build_*` methods was saved along with the results\n",
    "#model = reader.get_model(result)\n",
    "#sps = reader.get_sps(result)\n",
    "\n",
    "# let's look at what's stored in the `result` dictionary\n",
    "print(result.keys())\n"
   ]
  },
  {
   "cell_type": "markdown",
   "id": "e597c11c-b7a0-4387-a2c1-aebc25e2d329",
   "metadata": {},
   "source": [
    "#### Trace figure\n",
    "\n",
    "Shows how the values for all the parameters change for a subset of (`size=`) 10 walkers with each iteration"
   ]
  },
  {
   "cell_type": "code",
   "execution_count": null,
   "id": "be83f30c",
   "metadata": {},
   "outputs": [],
   "source": [
    "if results_type == \"emcee\":\n",
    "    chosen = np.random.choice(result['run_params'][\"nwalkers\"], size=10, replace=False)\n",
    "    tracefig = reader.traceplot(result, figsize=(20,10), chains=chosen)\n",
    "else:\n",
    "    tracefig = reader.traceplot(result, figsize=(20,10))\n"
   ]
  },
  {
   "cell_type": "markdown",
   "id": "36bb9cd5-5cd5-4f88-a4ca-6e3d325ac808",
   "metadata": {},
   "source": [
    "#### Best SED fit\n",
    "\n",
    "Here we plot the SED provided by our best fit (MAP, or maximum a posteriori sample, in green) as well as some random walker (in blue) "
   ]
  },
  {
   "cell_type": "code",
   "execution_count": null,
   "id": "686f0bf1",
   "metadata": {},
   "outputs": [],
   "source": [
    "# maximum a posteriori (of the locations visited by the MCMC sampler)\n",
    "imax = np.argmax(result['lnprobability'])\n",
    "\n",
    "if results_type == \"emcee\":\n",
    "    i, j = np.unravel_index(imax, result['lnprobability'].shape)\n",
    "    theta_max = result['chain'][i, j, :].copy()\n",
    "    thin = 5\n",
    "else:\n",
    "    theta_max = result[\"chain\"][imax, :]\n",
    "    thin = 1\n",
    "\n",
    "\n",
    "# randomly chosen parameters from chain\n",
    "randint = np.random.randint\n",
    "if results_type == \"emcee\":\n",
    "    nwalkers, niter = run_params['nwalkers'], run_params['niter']\n",
    "    theta = result['chain'][randint(nwalkers), randint(niter)]\n",
    "else:\n",
    "    theta = result[\"chain\"][randint(len(result[\"chain\"]))]\n",
    "\n",
    "# generate models\n",
    "# sps = reader.get_sps(result)  # this works if using parameter files\n",
    "mspec, mphot, mextra = model.mean_model(theta, obs, sps=sps)\n",
    "mspec_map, mphot_map, _ = model.mean_model(theta_max, obs, sps=sps)\n",
    "\n",
    "# Make plot of data and model\n",
    "plt.figure(figsize=(16,8))\n",
    "\n",
    "plt.loglog(wspec, mspec, label='Model spectrum (random draw)',\n",
    "       lw=0.7, color='navy', alpha=0.7)\n",
    "plt.loglog(wspec, mspec_map, label='Model spectrum (MAP)',\n",
    "       lw=0.7, color='green', alpha=0.7)\n",
    "plt.errorbar(wphot, mphot, label='Model photometry (random draw)',\n",
    "         marker='s', markersize=10, alpha=0.8, ls='', lw=3, \n",
    "         markerfacecolor='none', markeredgecolor='blue', \n",
    "         markeredgewidth=3)\n",
    "plt.errorbar(wphot, mphot_map, label='Model photometry (MAP)',\n",
    "         marker='s', markersize=10, alpha=0.8, ls='', lw=3, \n",
    "         markerfacecolor='none', markeredgecolor='green', \n",
    "         markeredgewidth=3)\n",
    "plt.errorbar(wphot, obs['maggies'], yerr=obs['maggies_unc'], \n",
    "         label='Observed photometry', ecolor='red', \n",
    "         marker='o', markersize=10, ls='', lw=3, alpha=0.8, \n",
    "         markerfacecolor='none', markeredgecolor='red', \n",
    "         markeredgewidth=3)\n",
    "\n",
    "# plot transmission curves\n",
    "for f in obs['filters']:\n",
    "    w, t = f.wavelength.copy(), f.transmission.copy()\n",
    "    t = t / t.max()\n",
    "    t = 10**(0.2*(np.log10(ymax/ymin)))*t * ymin\n",
    "    plt.loglog(w, t, lw=3, color='gray', alpha=0.7)\n",
    "\n",
    "plt.xlabel('Wavelength [A]')\n",
    "plt.ylabel('Flux Density [maggies]')\n",
    "plt.xlim([xmin, xmax])\n",
    "plt.ylim([ymin/10,ymax])\n",
    "plt.legend(loc='best', fontsize=20)\n"
   ]
  },
  {
   "cell_type": "markdown",
   "id": "facca98a-2958-4884-b408-2ceecfebac1b",
   "metadata": {},
   "source": [
    "#### Corner plot\n",
    "\n",
    "Finally, plot the corner plot that shows 2D covariance slices for each pair of parameters."
   ]
  },
  {
   "cell_type": "code",
   "execution_count": null,
   "id": "d1aa8f08",
   "metadata": {},
   "outputs": [],
   "source": [
    "print('Optimization value: {}'.format(theta_max))\n",
    "print('MAP value: {}'.format(theta_max))\n",
    "cornerfig = reader.subcorner(result, start=0, thin=thin, truths=theta_max, \n",
    "                             fig=plt.subplots(4,4,figsize=(27,27))[0])"
   ]
  },
  {
   "cell_type": "markdown",
   "id": "08ee15b7-fd81-438b-8021-341d83bd4038",
   "metadata": {},
   "source": [
    "Feel free to edit this notebook, play around with different parameters, and try to get better fits if you'd like!"
   ]
  }
 ],
 "metadata": {
  "kernelspec": {
   "display_name": "Python 3 (ipykernel)",
   "language": "python",
   "name": "python3"
  },
  "language_info": {
   "codemirror_mode": {
    "name": "ipython",
    "version": 3
   },
   "file_extension": ".py",
   "mimetype": "text/x-python",
   "name": "python",
   "nbconvert_exporter": "python",
   "pygments_lexer": "ipython3",
   "version": "3.10.12"
  }
 },
 "nbformat": 4,
 "nbformat_minor": 5
}
